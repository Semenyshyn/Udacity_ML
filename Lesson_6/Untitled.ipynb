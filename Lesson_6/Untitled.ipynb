{
 "cells": [
  {
   "cell_type": "code",
   "execution_count": 41,
   "metadata": {
    "collapsed": true
   },
   "outputs": [],
   "source": [
    "import pandas as pd\n",
    "import numpy as np\n",
    "\n",
    "data_dict = pd.read_pickle('final_project_dataset.pkl')\n",
    "df = pd.DataFrame.from_dict(data_dict, orient='index')"
   ]
  },
  {
   "cell_type": "code",
   "execution_count": 42,
   "metadata": {
    "collapsed": false
   },
   "outputs": [
    {
     "data": {
      "text/plain": [
       "other                        object\n",
       "restricted_stock_deferred    object\n",
       "long_term_incentive          object\n",
       "director_fees                object\n",
       "shared_receipt_with_poi      object\n",
       "email_address                object\n",
       "from_messages                object\n",
       "from_this_person_to_poi      object\n",
       "exercised_stock_options      object\n",
       "deferral_payments            object\n",
       "expenses                     object\n",
       "salary                       object\n",
       "deferred_income              object\n",
       "restricted_stock             object\n",
       "to_messages                  object\n",
       "poi                            bool\n",
       "total_stock_value            object\n",
       "from_poi_to_this_person      object\n",
       "loan_advances                object\n",
       "bonus                        object\n",
       "total_payments               object\n",
       "dtype: object"
      ]
     },
     "execution_count": 42,
     "metadata": {},
     "output_type": "execute_result"
    }
   ],
   "source": [
    "df.dtypes"
   ]
  },
  {
   "cell_type": "code",
   "execution_count": 43,
   "metadata": {
    "collapsed": false
   },
   "outputs": [
    {
     "data": {
      "text/html": [
       "<div>\n",
       "<table border=\"1\" class=\"dataframe\">\n",
       "  <thead>\n",
       "    <tr style=\"text-align: right;\">\n",
       "      <th></th>\n",
       "      <th>other</th>\n",
       "      <th>restricted_stock_deferred</th>\n",
       "      <th>long_term_incentive</th>\n",
       "      <th>director_fees</th>\n",
       "      <th>shared_receipt_with_poi</th>\n",
       "      <th>email_address</th>\n",
       "      <th>from_messages</th>\n",
       "      <th>from_this_person_to_poi</th>\n",
       "      <th>exercised_stock_options</th>\n",
       "      <th>deferral_payments</th>\n",
       "      <th>...</th>\n",
       "      <th>salary</th>\n",
       "      <th>deferred_income</th>\n",
       "      <th>restricted_stock</th>\n",
       "      <th>to_messages</th>\n",
       "      <th>poi</th>\n",
       "      <th>total_stock_value</th>\n",
       "      <th>from_poi_to_this_person</th>\n",
       "      <th>loan_advances</th>\n",
       "      <th>bonus</th>\n",
       "      <th>total_payments</th>\n",
       "    </tr>\n",
       "  </thead>\n",
       "  <tbody>\n",
       "    <tr>\n",
       "      <th>ALLEN PHILLIP K</th>\n",
       "      <td>152</td>\n",
       "      <td>-126027</td>\n",
       "      <td>304805</td>\n",
       "      <td>NaN</td>\n",
       "      <td>1407</td>\n",
       "      <td>phillip.allen@enron.com</td>\n",
       "      <td>2195</td>\n",
       "      <td>65</td>\n",
       "      <td>1729541</td>\n",
       "      <td>2869717</td>\n",
       "      <td>...</td>\n",
       "      <td>201955</td>\n",
       "      <td>-3081055</td>\n",
       "      <td>126027</td>\n",
       "      <td>2902</td>\n",
       "      <td>False</td>\n",
       "      <td>1729541</td>\n",
       "      <td>47</td>\n",
       "      <td>NaN</td>\n",
       "      <td>4175000</td>\n",
       "      <td>4484442</td>\n",
       "    </tr>\n",
       "    <tr>\n",
       "      <th>BADUM JAMES P</th>\n",
       "      <td>NaN</td>\n",
       "      <td>NaN</td>\n",
       "      <td>NaN</td>\n",
       "      <td>NaN</td>\n",
       "      <td>NaN</td>\n",
       "      <td>NaN</td>\n",
       "      <td>NaN</td>\n",
       "      <td>NaN</td>\n",
       "      <td>257817</td>\n",
       "      <td>178980</td>\n",
       "      <td>...</td>\n",
       "      <td>NaN</td>\n",
       "      <td>NaN</td>\n",
       "      <td>NaN</td>\n",
       "      <td>NaN</td>\n",
       "      <td>False</td>\n",
       "      <td>257817</td>\n",
       "      <td>NaN</td>\n",
       "      <td>NaN</td>\n",
       "      <td>NaN</td>\n",
       "      <td>182466</td>\n",
       "    </tr>\n",
       "    <tr>\n",
       "      <th>BANNANTINE JAMES M</th>\n",
       "      <td>864523</td>\n",
       "      <td>-560222</td>\n",
       "      <td>NaN</td>\n",
       "      <td>NaN</td>\n",
       "      <td>465</td>\n",
       "      <td>james.bannantine@enron.com</td>\n",
       "      <td>29</td>\n",
       "      <td>0</td>\n",
       "      <td>4046157</td>\n",
       "      <td>NaN</td>\n",
       "      <td>...</td>\n",
       "      <td>477</td>\n",
       "      <td>-5104</td>\n",
       "      <td>1757552</td>\n",
       "      <td>566</td>\n",
       "      <td>False</td>\n",
       "      <td>5243487</td>\n",
       "      <td>39</td>\n",
       "      <td>NaN</td>\n",
       "      <td>NaN</td>\n",
       "      <td>916197</td>\n",
       "    </tr>\n",
       "    <tr>\n",
       "      <th>BAXTER JOHN C</th>\n",
       "      <td>2660303</td>\n",
       "      <td>NaN</td>\n",
       "      <td>1586055</td>\n",
       "      <td>NaN</td>\n",
       "      <td>NaN</td>\n",
       "      <td>NaN</td>\n",
       "      <td>NaN</td>\n",
       "      <td>NaN</td>\n",
       "      <td>6680544</td>\n",
       "      <td>1295738</td>\n",
       "      <td>...</td>\n",
       "      <td>267102</td>\n",
       "      <td>-1386055</td>\n",
       "      <td>3942714</td>\n",
       "      <td>NaN</td>\n",
       "      <td>False</td>\n",
       "      <td>10623258</td>\n",
       "      <td>NaN</td>\n",
       "      <td>NaN</td>\n",
       "      <td>1200000</td>\n",
       "      <td>5634343</td>\n",
       "    </tr>\n",
       "    <tr>\n",
       "      <th>BAY FRANKLIN R</th>\n",
       "      <td>69</td>\n",
       "      <td>-82782</td>\n",
       "      <td>NaN</td>\n",
       "      <td>NaN</td>\n",
       "      <td>NaN</td>\n",
       "      <td>frank.bay@enron.com</td>\n",
       "      <td>NaN</td>\n",
       "      <td>NaN</td>\n",
       "      <td>NaN</td>\n",
       "      <td>260455</td>\n",
       "      <td>...</td>\n",
       "      <td>239671</td>\n",
       "      <td>-201641</td>\n",
       "      <td>145796</td>\n",
       "      <td>NaN</td>\n",
       "      <td>False</td>\n",
       "      <td>63014</td>\n",
       "      <td>NaN</td>\n",
       "      <td>NaN</td>\n",
       "      <td>400000</td>\n",
       "      <td>827696</td>\n",
       "    </tr>\n",
       "  </tbody>\n",
       "</table>\n",
       "<p>5 rows × 21 columns</p>\n",
       "</div>"
      ],
      "text/plain": [
       "                      other restricted_stock_deferred long_term_incentive  \\\n",
       "ALLEN PHILLIP K         152                   -126027              304805   \n",
       "BADUM JAMES P           NaN                       NaN                 NaN   \n",
       "BANNANTINE JAMES M   864523                   -560222                 NaN   \n",
       "BAXTER JOHN C       2660303                       NaN             1586055   \n",
       "BAY FRANKLIN R           69                    -82782                 NaN   \n",
       "\n",
       "                   director_fees shared_receipt_with_poi  \\\n",
       "ALLEN PHILLIP K              NaN                    1407   \n",
       "BADUM JAMES P                NaN                     NaN   \n",
       "BANNANTINE JAMES M           NaN                     465   \n",
       "BAXTER JOHN C                NaN                     NaN   \n",
       "BAY FRANKLIN R               NaN                     NaN   \n",
       "\n",
       "                                 email_address from_messages  \\\n",
       "ALLEN PHILLIP K        phillip.allen@enron.com          2195   \n",
       "BADUM JAMES P                              NaN           NaN   \n",
       "BANNANTINE JAMES M  james.bannantine@enron.com            29   \n",
       "BAXTER JOHN C                              NaN           NaN   \n",
       "BAY FRANKLIN R             frank.bay@enron.com           NaN   \n",
       "\n",
       "                   from_this_person_to_poi exercised_stock_options  \\\n",
       "ALLEN PHILLIP K                         65                 1729541   \n",
       "BADUM JAMES P                          NaN                  257817   \n",
       "BANNANTINE JAMES M                       0                 4046157   \n",
       "BAXTER JOHN C                          NaN                 6680544   \n",
       "BAY FRANKLIN R                         NaN                     NaN   \n",
       "\n",
       "                   deferral_payments      ...        salary deferred_income  \\\n",
       "ALLEN PHILLIP K              2869717      ...        201955        -3081055   \n",
       "BADUM JAMES P                 178980      ...           NaN             NaN   \n",
       "BANNANTINE JAMES M               NaN      ...           477           -5104   \n",
       "BAXTER JOHN C                1295738      ...        267102        -1386055   \n",
       "BAY FRANKLIN R                260455      ...        239671         -201641   \n",
       "\n",
       "                   restricted_stock to_messages    poi total_stock_value  \\\n",
       "ALLEN PHILLIP K              126027        2902  False           1729541   \n",
       "BADUM JAMES P                   NaN         NaN  False            257817   \n",
       "BANNANTINE JAMES M          1757552         566  False           5243487   \n",
       "BAXTER JOHN C               3942714         NaN  False          10623258   \n",
       "BAY FRANKLIN R               145796         NaN  False             63014   \n",
       "\n",
       "                   from_poi_to_this_person loan_advances    bonus  \\\n",
       "ALLEN PHILLIP K                         47           NaN  4175000   \n",
       "BADUM JAMES P                          NaN           NaN      NaN   \n",
       "BANNANTINE JAMES M                      39           NaN      NaN   \n",
       "BAXTER JOHN C                          NaN           NaN  1200000   \n",
       "BAY FRANKLIN R                         NaN           NaN   400000   \n",
       "\n",
       "                   total_payments  \n",
       "ALLEN PHILLIP K           4484442  \n",
       "BADUM JAMES P              182466  \n",
       "BANNANTINE JAMES M         916197  \n",
       "BAXTER JOHN C             5634343  \n",
       "BAY FRANKLIN R             827696  \n",
       "\n",
       "[5 rows x 21 columns]"
      ]
     },
     "execution_count": 43,
     "metadata": {},
     "output_type": "execute_result"
    }
   ],
   "source": [
    "df.head()"
   ]
  },
  {
   "cell_type": "code",
   "execution_count": 27,
   "metadata": {
    "collapsed": false
   },
   "outputs": [
    {
     "data": {
      "text/plain": [
       "95"
      ]
     },
     "execution_count": 27,
     "metadata": {},
     "output_type": "execute_result"
    }
   ],
   "source": [
    "df['salary'][df['salary'] != 'NaN'].count()"
   ]
  },
  {
   "cell_type": "code",
   "execution_count": 28,
   "metadata": {
    "collapsed": false
   },
   "outputs": [
    {
     "data": {
      "text/plain": [
       "111"
      ]
     },
     "execution_count": 28,
     "metadata": {},
     "output_type": "execute_result"
    }
   ],
   "source": [
    "df['email_address'][df['email_address'] != 'NaN'].count()"
   ]
  },
  {
   "cell_type": "code",
   "execution_count": 30,
   "metadata": {
    "collapsed": false
   },
   "outputs": [
    {
     "data": {
      "text/plain": [
       "0.14383561643835616"
      ]
     },
     "execution_count": 30,
     "metadata": {},
     "output_type": "execute_result"
    }
   ],
   "source": [
    "df['total_payments'][df['total_payments'] == 'NaN'].count() / df['total_payments'].count()"
   ]
  },
  {
   "cell_type": "code",
   "execution_count": 31,
   "metadata": {
    "collapsed": false
   },
   "outputs": [
    {
     "data": {
      "text/plain": [
       "146"
      ]
     },
     "execution_count": 31,
     "metadata": {},
     "output_type": "execute_result"
    }
   ],
   "source": [
    "len(df)"
   ]
  },
  {
   "cell_type": "code",
   "execution_count": 40,
   "metadata": {
    "collapsed": false
   },
   "outputs": [
    {
     "data": {
      "text/plain": [
       "other                        0\n",
       "restricted_stock_deferred    0\n",
       "long_term_incentive          0\n",
       "director_fees                0\n",
       "shared_receipt_with_poi      0\n",
       "email_address                0\n",
       "from_messages                0\n",
       "from_this_person_to_poi      0\n",
       "exercised_stock_options      0\n",
       "deferral_payments            0\n",
       "expenses                     0\n",
       "salary                       0\n",
       "deferred_income              0\n",
       "restricted_stock             0\n",
       "to_messages                  0\n",
       "poi                          0\n",
       "total_stock_value            0\n",
       "from_poi_to_this_person      0\n",
       "loan_advances                0\n",
       "bonus                        0\n",
       "total_payments               0\n",
       "dtype: int64"
      ]
     },
     "execution_count": 40,
     "metadata": {},
     "output_type": "execute_result"
    }
   ],
   "source": [
    "df[(df['poi'] == True) & (df['total_payments'] == 'NaN')].count()"
   ]
  },
  {
   "cell_type": "code",
   "execution_count": null,
   "metadata": {
    "collapsed": true
   },
   "outputs": [],
   "source": []
  }
 ],
 "metadata": {
  "anaconda-cloud": {},
  "kernelspec": {
   "display_name": "Python [conda root]",
   "language": "python",
   "name": "conda-root-py"
  },
  "language_info": {
   "codemirror_mode": {
    "name": "ipython",
    "version": 3
   },
   "file_extension": ".py",
   "mimetype": "text/x-python",
   "name": "python",
   "nbconvert_exporter": "python",
   "pygments_lexer": "ipython3",
   "version": "3.5.2"
  }
 },
 "nbformat": 4,
 "nbformat_minor": 2
}
